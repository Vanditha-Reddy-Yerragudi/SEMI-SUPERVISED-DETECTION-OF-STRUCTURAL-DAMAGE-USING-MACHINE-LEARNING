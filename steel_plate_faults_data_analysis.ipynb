{
  "cells": [
    {
      "metadata": {
        "id": "uImprOOPA8oo"
      },
      "cell_type": "markdown",
      "source": [
        " **TABLE OF CONTENT**"
      ]
    },
    {
      "metadata": {
        "_cell_guid": "6c41e85d-7885-4157-82b4-ee5ed14540a1",
        "_uuid": "771236dfba7bf693b1e0dfeab1786a4a5df6ebe4",
        "trusted": true,
        "id": "udtUMvMzA8op"
      },
      "cell_type": "code",
      "source": [
        "\n",
        "from sklearn import datasets, linear_model\n",
        "from sklearn.model_selection import cross_validate\n",
        "from sklearn.metrics.scorer import make_scorer\n",
        "from sklearn.metrics import confusion_matrix\n",
        "from sklearn.svm import LinearSVC\n",
        "import numpy as np\n",
        "from sklearn.metrics import accuracy_score\n",
        "from sklearn.metrics import classification_report\n",
        "from sklearn.model_selection import train_test_split\n",
        "\n",
        "import pandas as pd\n",
        "from sklearn.preprocessing import MinMaxScaler\n",
        "from sklearn.decomposition import PCA\n",
        "\n",
        "import seaborn as sns\n",
        "import plotly as py\n",
        "import matplotlib.pyplot as plt\n",
        "import plotly.graph_objs as go\n",
        "import warnings\n",
        "warnings.filterwarnings(\"ignore\")\n",
        "\n",
        "from sklearn.linear_model import LogisticRegression as LR\n",
        "from sklearn.tree import DecisionTreeClassifier as DTC\n",
        "from sklearn.metrics import accuracy_score\n",
        "from sklearn.neighbors import KNeighborsClassifier as KNC\n",
        "from sklearn.ensemble import RandomForestClassifier as RF\n",
        "\n",
        "from sklearn import preprocessing\n",
        "from sklearn.preprocessing import StandardScaler\n",
        "from sklearn.model_selection import GridSearchCV"
      ],
      "execution_count": null,
      "outputs": []
    },
    {
      "metadata": {
        "id": "TTnb4JABA8oq"
      },
      "cell_type": "markdown",
      "source": [
        "# Basic Data Analysis"
      ]
    },
    {
      "metadata": {
        "id": "1wPkecljA8or"
      },
      "cell_type": "markdown",
      "source": [
        "** Load dataset from CSV File using Pandas**"
      ]
    },
    {
      "metadata": {
        "trusted": true,
        "id": "o3hulOqkA8or"
      },
      "cell_type": "code",
      "source": [
        "X = pd.read_csv('../input/faults.csv')"
      ],
      "execution_count": null,
      "outputs": []
    },
    {
      "metadata": {
        "id": "LPwH4RrDA8or"
      },
      "cell_type": "markdown",
      "source": [
        "As We can see we have 1941 entries and there is no null values.For this we will need comparatively less data processing e.g putting dummy entries.\n",
        "We have total of 34 columns ."
      ]
    },
    {
      "metadata": {
        "trusted": true,
        "id": "ImrtsHTmA8or"
      },
      "cell_type": "code",
      "source": [
        "X.info()"
      ],
      "execution_count": null,
      "outputs": []
    },
    {
      "metadata": {
        "id": "FXgt8axpA8or"
      },
      "cell_type": "markdown",
      "source": [
        "We will use head function of the pandas DataFrame object. The HEAD function takes the number of rows to be listed as parameters and lists from the first row. By default, the number of rows to list is 5."
      ]
    },
    {
      "metadata": {
        "id": "jHn9Ry0gA8or"
      },
      "cell_type": "markdown",
      "source": []
    },
    {
      "metadata": {
        "trusted": true,
        "id": "eVJ-DNaOA8or"
      },
      "cell_type": "code",
      "source": [
        "X.head()"
      ],
      "execution_count": null,
      "outputs": []
    },
    {
      "metadata": {
        "id": "btSQ07JvA8os"
      },
      "cell_type": "markdown",
      "source": [
        "The statistical summary of the properties in the data set is defined as **Descriptive Statistics**. It aims to present the summary and analysis of the descriptive statistical data set by statistical calculations."
      ]
    },
    {
      "metadata": {
        "id": "C_ckMmWPA8os"
      },
      "cell_type": "markdown",
      "source": [
        "\n",
        "\n",
        "The given statistical measures are:\n",
        "\n",
        "1.     count= number of samples\n",
        "1.     mean= the mean of this attribute among all samples\n",
        "1.     std= the standard deviation of this attribute\n",
        "1.     min= the minimal value of this attribute\n",
        "1.     25%= the lower percentile\n",
        "1.     50%= the median\n",
        "1.     75%= the upper percentile\n",
        "1.     max= the maximal value of this attribute\n"
      ]
    },
    {
      "metadata": {
        "trusted": true,
        "id": "kjVs4NjRA8os"
      },
      "cell_type": "code",
      "source": [
        "display(X.describe(include=\"all\"))"
      ],
      "execution_count": null,
      "outputs": []
    },
    {
      "metadata": {
        "id": "0ujOl-1zA8os"
      },
      "cell_type": "markdown",
      "source": [
        "**HEATMAP**"
      ]
    },
    {
      "metadata": {
        "id": "oRMmsKYRA8os"
      },
      "cell_type": "markdown",
      "source": [
        "A heat map is a graphical representation of data where the values contained in a matrix are represented as colors.\n",
        "The heatmap on our data doesnot give any useful information."
      ]
    },
    {
      "metadata": {
        "trusted": true,
        "id": "K1igNGv6A8os"
      },
      "cell_type": "code",
      "source": [
        "sns.set(rc={'figure.figsize':(12,10)})\n",
        "corr = X.corr()\n",
        "sns.heatmap(corr, xticklabels=corr.columns.values,yticklabels=corr.columns.values)"
      ],
      "execution_count": null,
      "outputs": []
    },
    {
      "metadata": {
        "id": "iayVnBTKA8os"
      },
      "cell_type": "markdown",
      "source": [
        "**HISTOGRAM**"
      ]
    },
    {
      "metadata": {
        "id": "52CjBubaA8os"
      },
      "cell_type": "markdown",
      "source": [
        "A histogram is an accurate representation of the distribution of numerical data"
      ]
    },
    {
      "metadata": {
        "trusted": true,
        "id": "_Qhvqkh6A8ot"
      },
      "cell_type": "code",
      "source": [
        "\n",
        "\n",
        "X.hist(figsize=(20,20))\n",
        "plt.show()\n",
        "\n"
      ],
      "execution_count": null,
      "outputs": []
    },
    {
      "metadata": {
        "id": "DFMGo3C1A8ot"
      },
      "cell_type": "markdown",
      "source": [
        "# Data Processing"
      ]
    },
    {
      "metadata": {
        "id": "aes4tSc9A8ot"
      },
      "cell_type": "markdown",
      "source": [
        " We are dividing our dateset in **features** and **faults** dataset.The faults dataset contains\n",
        "7 columns while the features dataset contains 27 columns."
      ]
    },
    {
      "metadata": {
        "trusted": true,
        "id": "3dPDx8OnA8ot"
      },
      "cell_type": "code",
      "source": [
        "X1 = X.values\n",
        "y_dataframe =X[[\"Pastry\",\"Z_Scratch\",\"K_Scatch\",\"Stains\",\"Dirtiness\",\"Bumps\",\"Other_Faults\"]]\n",
        "features = X1[:,0:27]\n",
        "x = pd.DataFrame(features)\n",
        "\n",
        "\n",
        "\n"
      ],
      "execution_count": null,
      "outputs": []
    },
    {
      "metadata": {
        "trusted": true,
        "id": "cfp_onBNA8ot"
      },
      "cell_type": "code",
      "source": [
        "y_dataframe.info()"
      ],
      "execution_count": null,
      "outputs": []
    },
    {
      "metadata": {
        "id": "NuOZRxUiA8ot"
      },
      "cell_type": "markdown",
      "source": [
        "converting the faults dataset(7 colums) into single column"
      ]
    },
    {
      "metadata": {
        "trusted": true,
        "id": "Rxkl0srjA8ot"
      },
      "cell_type": "code",
      "source": [
        "\n",
        "\n",
        "# I want to get a single column for machine learning purpose -> DOING INVERSE OF ONE HOT ENCODING\n",
        "y = []\n",
        "for i in range(y_dataframe.shape[0]):\n",
        "    if y_dataframe[\"Pastry\"].values[i] == 1:\n",
        "        y.append(\"Pastry\")\n",
        "    elif y_dataframe[\"Z_Scratch\"].values[i] == 1:\n",
        "        y.append(\"Z_Scratch\")\n",
        "    elif y_dataframe[\"K_Scatch\"].values[i] == 1:\n",
        "        y.append(\"K_Scatch\")\n",
        "    elif y_dataframe[\"Stains\"].values[i] == 1:\n",
        "        y.append(\"Stains\")\n",
        "    elif y_dataframe[\"Dirtiness\"].values[i] == 1:\n",
        "        y.append(\"Dirtiness\")\n",
        "    elif y_dataframe[\"Bumps\"].values[i] == 1:\n",
        "        y.append(\"Bumps\")\n",
        "    else:\n",
        "        y.append(\"Other_Faults\")"
      ],
      "execution_count": null,
      "outputs": []
    },
    {
      "metadata": {
        "trusted": true,
        "id": "1kTzLL9BA8ot"
      },
      "cell_type": "code",
      "source": [
        "y=np.array(y)"
      ],
      "execution_count": null,
      "outputs": []
    },
    {
      "metadata": {
        "trusted": true,
        "id": "7lK5jMFOA8ou"
      },
      "cell_type": "code",
      "source": [
        "y.shape"
      ],
      "execution_count": null,
      "outputs": []
    },
    {
      "metadata": {
        "trusted": true,
        "id": "ZX_jgWvhA8ou"
      },
      "cell_type": "code",
      "source": [
        "\n",
        "faultstype= pd.DataFrame({'faults':y})"
      ],
      "execution_count": null,
      "outputs": []
    },
    {
      "metadata": {
        "id": "jJq2ViCTA8ou"
      },
      "cell_type": "markdown",
      "source": [
        "Faults dataset description"
      ]
    },
    {
      "metadata": {
        "trusted": true,
        "id": "LYFlrNzDA8ou"
      },
      "cell_type": "code",
      "source": [
        "faultstype.describe()"
      ],
      "execution_count": null,
      "outputs": []
    },
    {
      "metadata": {
        "id": "M07GR1wiA8ou"
      },
      "cell_type": "markdown",
      "source": [
        "**Heatmap**"
      ]
    },
    {
      "metadata": {
        "id": "CGF-57oVA8ov"
      },
      "cell_type": "markdown",
      "source": [
        "*There is inexistant correlation between different faults.*"
      ]
    },
    {
      "metadata": {
        "trusted": true,
        "id": "9BBpByRpA8ow"
      },
      "cell_type": "code",
      "source": [
        "sns.set(rc={'figure.figsize':(12,10)})\n",
        "corr = y_dataframe.corr()\n",
        "sns.heatmap(corr, xticklabels=corr.columns.values,yticklabels=corr.columns.values)"
      ],
      "execution_count": null,
      "outputs": []
    },
    {
      "metadata": {
        "id": "gnHSAGDWA8oz"
      },
      "cell_type": "markdown",
      "source": [
        "As its evident from the charts that our faults # in decreasing order are :\n",
        "\n",
        "1. OTHER FAULTS\n",
        "1. BUMPS\n",
        "1. K SCRATCH\n",
        "1. Z SCRATCH\n",
        "1. PASTRY\n",
        "1. STAINS\n",
        "1. DIRTINESS"
      ]
    },
    {
      "metadata": {
        "id": "a6QHdgefA8o0"
      },
      "cell_type": "markdown",
      "source": [
        "The other_faults category has overwhelming majority as compared to all other type of faults.The dataset is not perfectly balanced but it works fine ."
      ]
    },
    {
      "metadata": {
        "trusted": true,
        "id": "iVLrXi-HA8o0"
      },
      "cell_type": "code",
      "source": [
        "fig, ax=plt.subplots(1,2,figsize=(20,8))\n",
        "\n",
        "faultstype['faults'].value_counts().plot.pie(ax=ax[0])\n",
        "sns.countplot(x='faults', data=faultstype, ax=ax[1])\n",
        "\n",
        "\n",
        "\n",
        "\n"
      ],
      "execution_count": null,
      "outputs": []
    },
    {
      "metadata": {
        "id": "FdoLk1ooA8o0"
      },
      "cell_type": "markdown",
      "source": [
        "# Classification using Principal component analysis"
      ]
    },
    {
      "metadata": {
        "id": "UZS5cL-6A8o0"
      },
      "cell_type": "markdown",
      "source": [
        " PCA reduces a large number of variables into a set of PC axes . It attempts to capture the information from the input variables and reduce them to a few axes. The number of PC axes that end up being important are determined by the Eigenvalues of each axis. The usual cut-off point to consider a PC \"important\" is an eigenvalue of ≥ 1. PC1 will always have the highest eigenvalue, followed by PC2,PC3 ETC."
      ]
    },
    {
      "metadata": {
        "id": "WvPRFgorA8o1"
      },
      "cell_type": "markdown",
      "source": [
        "**Data Strandadization **"
      ]
    },
    {
      "metadata": {
        "id": "mqIV7k7vA8o1"
      },
      "cell_type": "markdown",
      "source": [
        "Using variables without standardization in effect gives the variable with the larger range a larger weight in the analysis. Transforming the data to comparable scales can prevent this problem."
      ]
    },
    {
      "metadata": {
        "trusted": true,
        "id": "QlmvtPa0A8o1"
      },
      "cell_type": "code",
      "source": [
        "sc=StandardScaler()\n",
        "X=sc.fit_transform(x)\n"
      ],
      "execution_count": null,
      "outputs": []
    },
    {
      "metadata": {
        "trusted": true,
        "id": "fJztiJgQA8o1"
      },
      "cell_type": "code",
      "source": [
        "faultstype.shape"
      ],
      "execution_count": null,
      "outputs": []
    },
    {
      "metadata": {
        "id": "Yr1SQtWKA8o1"
      },
      "cell_type": "markdown",
      "source": [
        "**TRAIN TEST DATA SPLIT **"
      ]
    },
    {
      "metadata": {
        "trusted": true,
        "id": "9X0qCMHBA8o1"
      },
      "cell_type": "code",
      "source": [
        "x_train, x_test, y_train, y_test = train_test_split(X, y, test_size = 0.50, random_state = 42)"
      ],
      "execution_count": null,
      "outputs": []
    },
    {
      "metadata": {
        "id": "s44jajRkA8o2"
      },
      "cell_type": "markdown",
      "source": [
        "**we will take 10 principal components ,Please note we had 27 variables .**"
      ]
    },
    {
      "metadata": {
        "trusted": true,
        "id": "2PBs49jyA8o2"
      },
      "cell_type": "code",
      "source": [
        "\n",
        "\n",
        "pca=PCA(10)\n",
        "pca.fit(x_test)\n",
        "pca.explained_variance_ratio_\n",
        "\n"
      ],
      "execution_count": null,
      "outputs": []
    },
    {
      "metadata": {
        "trusted": true,
        "id": "vkkhGiR8A8o2"
      },
      "cell_type": "code",
      "source": [
        "pca_train=pca.transform(x_train)\n",
        "pca_test=pca.transform(x_test)\n",
        "pca_train=x_train\n",
        "pca_test=x_test\n"
      ],
      "execution_count": null,
      "outputs": []
    },
    {
      "metadata": {
        "trusted": true,
        "id": "iE8l3imjA8o2"
      },
      "cell_type": "code",
      "source": [
        "pca_score= np.zeros(6)\n",
        "pca_accuracy= np.zeros(6)\n",
        "\n",
        "\n",
        "\n"
      ],
      "execution_count": null,
      "outputs": []
    },
    {
      "metadata": {
        "id": "FqenkU2PA8o2"
      },
      "cell_type": "markdown",
      "source": [
        "**Logistic regression**"
      ]
    },
    {
      "metadata": {
        "trusted": true,
        "id": "Gdr9jU_bA8o3"
      },
      "cell_type": "code",
      "source": [
        "Logistic_Regression = LR().fit(pca_train,y_train)\n",
        "pca_score[0]=Logistic_Regression.score(pca_train,y_train)\n",
        "predictions_LR = Logistic_Regression.predict(pca_test)\n",
        "pca_accuracy[0]=accuracy_score(y_test, predictions_LR)\n"
      ],
      "execution_count": null,
      "outputs": []
    },
    {
      "metadata": {
        "id": "IX60AYv_A8o3"
      },
      "cell_type": "markdown",
      "source": [
        "**Decision Tree**"
      ]
    },
    {
      "metadata": {
        "id": "naRSl5GpA8o3"
      },
      "cell_type": "markdown",
      "source": [
        "**Decision tree builds classification or regression models in the form of a tree structure**"
      ]
    },
    {
      "metadata": {
        "id": "QBsa_eN1A8o3"
      },
      "cell_type": "markdown",
      "source": [
        "pseudo code of decision tree"
      ]
    },
    {
      "metadata": {
        "trusted": true,
        "id": "Oc4paBlwA8o4"
      },
      "cell_type": "code",
      "source": [
        "Decision_Tree_Classifier = DTC().fit(pca_train,y_train)\n",
        "pca_score[1]=Decision_Tree_Classifier.score(pca_train,y_train)\n",
        "predictions_DTC = Decision_Tree_Classifier.predict(pca_test)\n",
        "pca_accuracy[1]=accuracy_score(y_test, predictions_DTC)"
      ],
      "execution_count": null,
      "outputs": []
    },
    {
      "metadata": {
        "id": "E5K7gmo7A8o4"
      },
      "cell_type": "markdown",
      "source": [
        "**SVC**"
      ]
    },
    {
      "metadata": {
        "trusted": true,
        "id": "HmUDBCprA8o5"
      },
      "cell_type": "code",
      "source": [
        "from sklearn.svm import SVC\n",
        "SVC = SVC().fit(pca_train,y_train)\n",
        "pca_score[2]=SVC.score(pca_train,y_train)\n",
        "predictions_SVC = SVC.predict(pca_test)\n",
        "pca_accuracy[2]=accuracy_score(y_test, predictions_SVC)\n",
        "\n"
      ],
      "execution_count": null,
      "outputs": []
    },
    {
      "metadata": {
        "id": "gurfJzMwA8o5"
      },
      "cell_type": "markdown",
      "source": [
        "**K-Nearest Neigbours**"
      ]
    },
    {
      "metadata": {
        "trusted": true,
        "id": "AGMpMYxvA8o6"
      },
      "cell_type": "code",
      "source": [
        "K_Neighbors_Classifier = KNC(8).fit(pca_train,y_train)\n",
        "pca_score[3]=K_Neighbors_Classifier.score(pca_train,y_train)\n",
        "predictions_KNC = K_Neighbors_Classifier.predict(pca_test)\n",
        "pca_accuracy[3]=accuracy_score(y_test, predictions_KNC)"
      ],
      "execution_count": null,
      "outputs": []
    },
    {
      "metadata": {
        "id": "2atlmCMEA8o7"
      },
      "cell_type": "markdown",
      "source": [
        "**GAUSSIAN NAIVE BAYES**\n"
      ]
    },
    {
      "metadata": {
        "trusted": true,
        "id": "f-OacetqA8o7"
      },
      "cell_type": "code",
      "source": [
        "from sklearn.naive_bayes import GaussianNB as GNB\n",
        "\n",
        "GNB = GNB().fit(pca_train,y_train)\n",
        "pca_score[4]=GNB.score(pca_train,y_train)\n",
        "predictions_GNB= GNB.predict(pca_test)\n",
        "pca_accuracy[4]=accuracy_score(y_test, predictions_GNB)\n",
        "\n"
      ],
      "execution_count": null,
      "outputs": []
    },
    {
      "metadata": {
        "id": "XJiZ4_tLA8o8"
      },
      "cell_type": "markdown",
      "source": [
        "**Random Forest**"
      ]
    },
    {
      "metadata": {
        "trusted": true,
        "id": "8WDkyRd-A8o8"
      },
      "cell_type": "code",
      "source": [
        "RF = RF().fit(pca_train,y_train)\n",
        "pca_score[5]=RF.score(pca_train,y_train)\n",
        "predictions_RF= RF.predict(pca_test)\n",
        "pca_accuracy[5]=accuracy_score(y_test, predictions_RF)"
      ],
      "execution_count": null,
      "outputs": []
    },
    {
      "metadata": {
        "id": "J16DFOkEA8o9"
      },
      "cell_type": "markdown",
      "source": [
        "# Classification and LDA"
      ]
    },
    {
      "metadata": {
        "trusted": true,
        "id": "94HQqGcwA8o9"
      },
      "cell_type": "code",
      "source": [
        "from sklearn.discriminant_analysis import LinearDiscriminantAnalysis\n",
        "lda=LinearDiscriminantAnalysis()\n",
        "lda_train = lda.fit(x_test, y_test)\n"
      ],
      "execution_count": null,
      "outputs": []
    },
    {
      "metadata": {
        "trusted": true,
        "id": "50Jio35DA8o9"
      },
      "cell_type": "code",
      "source": [
        "lda_train=lda.transform(x_train)\n",
        "lda_test=lda.transform(x_test)"
      ],
      "execution_count": null,
      "outputs": []
    },
    {
      "metadata": {
        "trusted": true,
        "id": "jwwpmuguA8o9"
      },
      "cell_type": "code",
      "source": [
        "lda_score= np.zeros(6)\n",
        "lda_accuracy= np.zeros(6)"
      ],
      "execution_count": null,
      "outputs": []
    },
    {
      "metadata": {
        "id": "kSvKgzqYA8o9"
      },
      "cell_type": "markdown",
      "source": [
        "**Logistic Regression**"
      ]
    },
    {
      "metadata": {
        "trusted": true,
        "id": "xbT14J-qA8o9"
      },
      "cell_type": "code",
      "source": [
        "Logistic_Regression = LR().fit(lda_train,y_train)\n",
        "lda_score[0]=Logistic_Regression.score(lda_train,y_train)\n",
        "predictions_LR = Logistic_Regression.predict(lda_test)\n",
        "lda_accuracy[0]=accuracy_score(y_test, predictions_LR)"
      ],
      "execution_count": null,
      "outputs": []
    },
    {
      "metadata": {
        "id": "R4co1jeSA8o-"
      },
      "cell_type": "markdown",
      "source": [
        "**Decision Tree**"
      ]
    },
    {
      "metadata": {
        "trusted": true,
        "id": "bE-_ZIuyA8o-"
      },
      "cell_type": "code",
      "source": [
        "Decision_Tree_Classifier = DTC().fit(lda_train,y_train)\n",
        "lda_score[1]=Decision_Tree_Classifier.score(lda_train,y_train)\n",
        "predictions_DTC = Decision_Tree_Classifier.predict(lda_test)\n",
        "lda_accuracy[1]=accuracy_score(y_test, predictions_DTC)"
      ],
      "execution_count": null,
      "outputs": []
    },
    {
      "metadata": {
        "id": "zzRtee07A8o-"
      },
      "cell_type": "markdown",
      "source": [
        "**SVC**"
      ]
    },
    {
      "metadata": {
        "trusted": true,
        "id": "BSiAoRgdA8o-"
      },
      "cell_type": "code",
      "source": [
        "from sklearn.svm import SVC\n",
        "SVC = SVC().fit(lda_train,y_train)\n",
        "lda_score[2]=SVC.score(lda_train,y_train)\n",
        "predictions_SVC = SVC.predict(lda_test)\n",
        "lda_accuracy[2]=accuracy_score(y_test, predictions_SVC)"
      ],
      "execution_count": null,
      "outputs": []
    },
    {
      "metadata": {
        "id": "KR2NnouIA8o-"
      },
      "cell_type": "markdown",
      "source": [
        "**KNC**"
      ]
    },
    {
      "metadata": {
        "trusted": true,
        "id": "bFBac5KyA8o_"
      },
      "cell_type": "code",
      "source": [
        "K_Neighbors_Classifier = KNC(10).fit(lda_train,y_train)\n",
        "lda_score[3]=K_Neighbors_Classifier.score(lda_train,y_train)\n",
        "predictions_KNC = K_Neighbors_Classifier.predict(lda_test)\n",
        "lda_accuracy[3]=accuracy_score(y_test, predictions_KNC)"
      ],
      "execution_count": null,
      "outputs": []
    },
    {
      "metadata": {
        "id": "IYPkL60gA8o_"
      },
      "cell_type": "markdown",
      "source": [
        "**GNB**"
      ]
    },
    {
      "metadata": {
        "trusted": true,
        "id": "mAGgssduA8o_"
      },
      "cell_type": "code",
      "source": [
        "from sklearn.naive_bayes import GaussianNB as GNB\n",
        "\n",
        "GNB = GNB().fit(lda_train,y_train)\n",
        "lda_score[4]=GNB.score(lda_train,y_train)\n",
        "predictions_GNB= GNB.predict(lda_test)\n",
        "lda_accuracy[4]=accuracy_score(y_test, predictions_GNB)"
      ],
      "execution_count": null,
      "outputs": []
    },
    {
      "metadata": {
        "id": "xfLLCNhkA8pA"
      },
      "cell_type": "markdown",
      "source": [
        "**Random Forest**"
      ]
    },
    {
      "metadata": {
        "trusted": true,
        "id": "adBaSBPeA8pB"
      },
      "cell_type": "code",
      "source": [
        "from sklearn.ensemble import RandomForestClassifier as RF\n",
        "RF = RF().fit(lda_train,y_train)\n",
        "lda_score[5]=RF.score(lda_train,y_train)\n",
        "predictions_RF= RF.predict(lda_test)\n",
        "lda_accuracy[5]=accuracy_score(y_test, predictions_RF)"
      ],
      "execution_count": null,
      "outputs": []
    },
    {
      "metadata": {
        "id": "eqdt5yN3A8pB"
      },
      "cell_type": "markdown",
      "source": [
        "# Simple Classification"
      ]
    },
    {
      "metadata": {
        "trusted": true,
        "id": "SFcAsVrRA8pB"
      },
      "cell_type": "code",
      "source": [
        "\n",
        "simple_score= np.zeros(6)\n",
        "simple_accuracy= np.zeros(6)"
      ],
      "execution_count": null,
      "outputs": []
    },
    {
      "metadata": {
        "id": "SCEkeLodA8pB"
      },
      "cell_type": "markdown",
      "source": [
        "**LOGISTIC REGRESSION**"
      ]
    },
    {
      "metadata": {
        "trusted": true,
        "id": "QLUk97mWA8pB"
      },
      "cell_type": "code",
      "source": [
        "Logistic_Regression = LR().fit(x_train,y_train)\n",
        "simple_score[0]=Logistic_Regression.score(x_train,y_train)\n",
        "predictions_LR = Logistic_Regression.predict(x_test)\n",
        "simple_accuracy[0]=accuracy_score(y_test, predictions_LR)"
      ],
      "execution_count": null,
      "outputs": []
    },
    {
      "metadata": {
        "id": "FH9my2ElA8pB"
      },
      "cell_type": "markdown",
      "source": [
        "**Decision Tree Classifier**"
      ]
    },
    {
      "metadata": {
        "trusted": true,
        "id": "pGJ8rHrsA8pC"
      },
      "cell_type": "code",
      "source": [
        "Decision_Tree_Classifier = DTC().fit(x_train,y_train)\n",
        "simple_score[1]=Decision_Tree_Classifier.score(x_train,y_train)\n",
        "predictions_DTC = Decision_Tree_Classifier.predict(x_test)\n",
        "simple_accuracy[1]=accuracy_score(y_test, predictions_DTC)"
      ],
      "execution_count": null,
      "outputs": []
    },
    {
      "metadata": {
        "id": "j25cOTEcA8pC"
      },
      "cell_type": "markdown",
      "source": [
        "**SVC**"
      ]
    },
    {
      "metadata": {
        "trusted": true,
        "id": "EeHSgbsIA8pC"
      },
      "cell_type": "code",
      "source": [
        "from sklearn.svm import SVC\n",
        "SVC = SVC().fit(x_train,y_train)\n",
        "simple_score[2]=SVC.score(x_train,y_train)\n",
        "predictions_SVC = SVC.predict(x_test)\n",
        "simple_accuracy[2]=accuracy_score(y_test, predictions_SVC)"
      ],
      "execution_count": null,
      "outputs": []
    },
    {
      "metadata": {
        "id": "NRo9K_TLA8pC"
      },
      "cell_type": "markdown",
      "source": [
        "**K NEIGHBOURS CLASSIFIER**"
      ]
    },
    {
      "metadata": {
        "trusted": true,
        "id": "SXLTtcDFA8pC"
      },
      "cell_type": "code",
      "source": [
        "K_Neighbors_Classifier = KNC(10).fit(x_train,y_train)\n",
        "simple_score[3]=K_Neighbors_Classifier.score(x_train,y_train)\n",
        "predictions_KNC = K_Neighbors_Classifier.predict(x_test)\n",
        "simple_accuracy[3]=accuracy_score(y_test, predictions_KNC)"
      ],
      "execution_count": null,
      "outputs": []
    },
    {
      "metadata": {
        "id": "Qt0-FZ3SA8pC"
      },
      "cell_type": "markdown",
      "source": [
        "**Gaussian Naive Bayes**"
      ]
    },
    {
      "metadata": {
        "trusted": true,
        "id": "7Smixw4YA8pC"
      },
      "cell_type": "code",
      "source": [
        "from sklearn.naive_bayes import GaussianNB as GNB\n",
        "\n",
        "GNB = GNB().fit(x_train,y_train)\n",
        "simple_score[4]=GNB.score(x_train,y_train)\n",
        "predictions_GNB= GNB.predict(x_test)\n",
        "simple_accuracy[4]=accuracy_score(y_test, predictions_GNB)"
      ],
      "execution_count": null,
      "outputs": []
    },
    {
      "metadata": {
        "id": "JCIGBJShA8pD"
      },
      "cell_type": "markdown",
      "source": [
        "**Random Forest**"
      ]
    },
    {
      "metadata": {
        "trusted": true,
        "id": "8v2mvbgyA8pD"
      },
      "cell_type": "code",
      "source": [
        "from sklearn.ensemble import RandomForestClassifier as RF\n",
        "RF = RF(10).fit(x_train,y_train)\n",
        "simple_score[5]=RF.score(x_train,y_train)\n",
        "predictions_RF= RF.predict(x_test)\n",
        "simple_accuracy[5]=accuracy_score(y_test, predictions_RF)"
      ],
      "execution_count": null,
      "outputs": []
    },
    {
      "metadata": {
        "id": "jjEF0Ll7A8pD"
      },
      "cell_type": "markdown",
      "source": [
        " # **Results**"
      ]
    },
    {
      "metadata": {
        "id": "AEMGMWegA8pD"
      },
      "cell_type": "markdown",
      "source": [
        "*Decison Tree AND RANDOM fOREST ARE GIVING UNREASONABILY HIGH SCORES BECAUSE OF OVERFITTING THEIR TRAINING DATA.*"
      ]
    },
    {
      "metadata": {
        "trusted": true,
        "id": "zpMXL9otA8pE"
      },
      "cell_type": "code",
      "source": [
        "\n",
        "\n",
        "objects = ('Logistic_reg', 'Decision_Tree', 'SVC', 'K_Neighbors', ' GaussianNB','Random Forest')\n",
        "y_pos = np.arange(len(objects))\n",
        "SCORES = [simple_score[0]*100,simple_score[1]*100,simple_score[2]*100,simple_score[3]*100,simple_score[4]*100,simple_score[5]*100]\n",
        "\n",
        "plt.bar(y_pos, SCORES,color='#7f6d5f', align='center', alpha=0.5)\n",
        "plt.xticks(y_pos, objects)\n",
        "plt.ylabel('scores without LDA & PCA')\n",
        "plt.title('MACHINE LEARNING MODELS')\n",
        "\n",
        "plt.show()"
      ],
      "execution_count": null,
      "outputs": []
    },
    {
      "metadata": {
        "id": "rIbpTsqTA8pE"
      },
      "cell_type": "markdown",
      "source": [
        "**ACCURACY WITHOUT PCA AND LDA**"
      ]
    },
    {
      "metadata": {
        "id": "rcgC_oFyA8pE"
      },
      "cell_type": "markdown",
      "source": [
        "***SVC** HAS ACCURACY OF **ABOVE 75%**, IS CLEARLY THE WINNER HERE.*\n",
        "*WHILE LOGISTIC REGRESSION,K NEIGHBOURS AND RANDOM FOREST PERFORMS WELL **ABOVE 70%**.*"
      ]
    },
    {
      "metadata": {
        "trusted": true,
        "id": "VIa7Mi6tA8pE"
      },
      "cell_type": "code",
      "source": [
        "\n",
        "\n",
        "objects = ('Logistic_reg', 'Decision_Tree', 'SVC', 'K_Neighbors', ' GaussianNB','Random Forest')\n",
        "obj = np.arange(len(objects))\n",
        "SCORES = [simple_accuracy[0]*100,simple_accuracy[1]*100,simple_accuracy[2]*100,simple_accuracy[3]*100,simple_accuracy[4]*100,simple_accuracy[5]*100]\n",
        "\n",
        "plt.bar(y_pos, SCORES,color='#7f6d5f', align='center', alpha=0.5)\n",
        "plt.xticks(obj, objects)\n",
        "plt.ylabel('Accuracy without LDA & PCA')\n",
        "plt.title('MACHINE LEARNING MODELS')\n",
        "\n",
        "plt.show()"
      ],
      "execution_count": null,
      "outputs": []
    },
    {
      "metadata": {
        "id": "zmqs8osMA8pE"
      },
      "cell_type": "markdown",
      "source": [
        "**SCORE WITH PCA**"
      ]
    },
    {
      "metadata": {
        "id": "-cb4ooPZA8pE"
      },
      "cell_type": "markdown",
      "source": [
        "*AGAIN RANDOM FOREST AND DECISION TREE PERFORMS UNREASONABLY GOOD.THE MODELS ARE OVER FITTING THE DATASET .* *WE DONT NEED TO WORRY ABOUT IT AS MODELS OFTEN OVERFIT THEIR TRAINING DATASET.*"
      ]
    },
    {
      "metadata": {
        "trusted": true,
        "id": "Qlx2F90iA8pE"
      },
      "cell_type": "code",
      "source": [
        "\n",
        "\n",
        "objects = ('Logistic_reg', 'Decision_Tree', 'SVC', 'K_Neighbors', ' GaussianNB','Random Forest')\n",
        "y_pos = np.arange(len(objects))\n",
        "SCORES = [pca_score[0]*100,pca_score[1]*100,pca_score[2]*100,pca_score[3]*100,pca_score[4]*100,pca_score[5]*100]\n",
        "\n",
        "plt.bar(y_pos, SCORES,color='#557f2d' ,align='center', alpha=0.5)\n",
        "plt.xticks(y_pos, objects)\n",
        "plt.ylabel('scores with PCA')\n",
        "plt.title('MACHINE LEARNING MODELS')\n",
        "\n",
        "plt.show()"
      ],
      "execution_count": null,
      "outputs": []
    },
    {
      "metadata": {
        "id": "73FJG37vA8pF"
      },
      "cell_type": "markdown",
      "source": [
        "**ACCURACY WITH PCA**"
      ]
    },
    {
      "metadata": {
        "id": "9mUzmxHAA8pF"
      },
      "cell_type": "markdown",
      "source": [
        "***SVC** HAS ACCURACY OF **ABOVE 75%**, IS CLEARLY THE WINNER HERE.*\n",
        "*WHILE LOGISTIC REGRESSION,K NEIGHBOURS AND RANDOM FOREST PERFORMS WELL **ABOVE 70%**.*"
      ]
    },
    {
      "metadata": {
        "trusted": true,
        "id": "QHEYhFh9A8pF"
      },
      "cell_type": "code",
      "source": [
        "\n",
        "\n",
        "objects = ('Logistic_reg', 'Decision_Tree', 'SVC', 'K_Neighbors', ' GaussianNB','Random Forest')\n",
        "y_pos = np.arange(len(objects))\n",
        "SCORES = [pca_accuracy[0]*100,pca_accuracy[1]*100,pca_accuracy[2]*100,pca_accuracy[3]*100,pca_accuracy[4]*100,pca_accuracy[5]*100]\n",
        "\n",
        "plt.bar(y_pos, SCORES,color='#557f2d', align='center', alpha=0.5)\n",
        "plt.xticks(y_pos, objects)\n",
        "plt.ylabel('ACCURACY WITH PCA')\n",
        "plt.title('MACHINE LEARNING MODELS')\n",
        "\n",
        "plt.show()"
      ],
      "execution_count": null,
      "outputs": []
    },
    {
      "metadata": {
        "id": "uu0p1ajuA8pF"
      },
      "cell_type": "markdown",
      "source": [
        "**SCORE WITH LDA**"
      ]
    },
    {
      "metadata": {
        "id": "fjGIrnx7A8pF"
      },
      "cell_type": "markdown",
      "source": [
        "*AGAIN RANDOM FOREST AND DECISION TREE PERFORMS UNREASONABLY GOOD.THE MODELS ARE OVER FITTING THE DATASET .* *WE DONT NEED TO WORRY ABOUT IT AS MODELS OFTEN OVERFIT THEIR TRAINING DATASET.*"
      ]
    },
    {
      "metadata": {
        "trusted": true,
        "id": "ILprcgMTA8pG"
      },
      "cell_type": "code",
      "source": [
        "\n",
        "\n",
        "objects = ('Logistic_reg', 'Decision_Tree', 'SVC', 'K_Neighbors', ' GaussianNB','Random Forest')\n",
        "y_pos = np.arange(len(objects))\n",
        "SCORES = [lda_score[0]*100,lda_score[1]*100,lda_score[2]*100,lda_score[3]*100,lda_score[4]*100,lda_score[5]*100]\n",
        "\n",
        "plt.bar(y_pos, SCORES,color='#2d7f5e',align='center', alpha=0.5)\n",
        "plt.xticks(y_pos, objects)\n",
        "plt.ylabel('scores with LDA ')\n",
        "plt.title('MACHINE LEARNING MODELS')\n",
        "\n",
        "plt.show()"
      ],
      "execution_count": null,
      "outputs": []
    },
    {
      "metadata": {
        "id": "S5IEivzbA8pG"
      },
      "cell_type": "markdown",
      "source": [
        "**ACCURACY WITH LDA**"
      ]
    },
    {
      "metadata": {
        "id": "SgbVS35mA8pH"
      },
      "cell_type": "markdown",
      "source": [
        " **SVC** HAS ACCURACY OF **ABOVE 75%**, IS CLEARLY THE WINNER HERE.*\n",
        "*WHILE LOGISTIC REGRESSION,K NEIGHBOURS AND RANDOM FOREST PERFORMS WELL **ABOVE 70%**."
      ]
    },
    {
      "metadata": {
        "trusted": true,
        "id": "3nJayRf4A8pH"
      },
      "cell_type": "code",
      "source": [
        "\n",
        "objects = ('Logistic_reg', 'Decision_Tree', 'SVC', 'K_Neighbors', ' GaussianNB','Random Forest')\n",
        "y_pos = np.arange(len(objects))\n",
        "SCORES = [lda_accuracy[0]*100,lda_accuracy[1]*100,lda_accuracy[2]*100,lda_accuracy[3]*100,lda_accuracy[4]*100,lda_accuracy[5]*100]\n",
        "\n",
        "plt.bar(y_pos, SCORES,color='#2d7f5e', align='center', alpha=0.5)\n",
        "plt.xticks(y_pos, objects)\n",
        "plt.ylabel('Accuracy with LDA ')\n",
        "plt.title('MACHINE LEARNING MODELS')\n",
        "\n",
        "plt.show()"
      ],
      "execution_count": null,
      "outputs": []
    },
    {
      "metadata": {
        "id": "68mZhxJBA8pI"
      },
      "cell_type": "markdown",
      "source": [
        "# COMPARISON"
      ]
    },
    {
      "metadata": {
        "id": "sMNYsL0lA8pI"
      },
      "cell_type": "markdown",
      "source": [
        "  **COMPARISON OF CLASSIFICATION ALGORITHMS SCORES W.R.T PCA,LDA AND SIMPLE TECHNIQUE**"
      ]
    },
    {
      "metadata": {
        "id": "cxCoza_eA8pI"
      },
      "cell_type": "markdown",
      "source": [
        "**SCORES**"
      ]
    },
    {
      "metadata": {
        "id": "qHszeN-oA8pI"
      },
      "cell_type": "markdown",
      "source": [
        "**Decison treee is over perfoming while Gassian-NB under performs.SVC has reasonable score nearing 80%.**"
      ]
    },
    {
      "metadata": {
        "trusted": true,
        "id": "dtSe3rhlA8pI"
      },
      "cell_type": "code",
      "source": [
        "# set width of bar\n",
        "barWidth = 0.25\n",
        "\n",
        "# set height of bar\n",
        "bars1 = [lda_score[0]*100,lda_score[1]*100,lda_score[2]*100,lda_score[3]*100,lda_score[4]*100,lda_accuracy[5]*100]\n",
        "bars2 = [pca_score[0]*100,pca_score[1]*100,pca_score[2]*100,pca_score[3]*100,pca_score[4]*100,pca_accuracy[5]*100]\n",
        "bars3 = [simple_score[0]*100,simple_score[1]*100,simple_score[2]*100,simple_score[3]*100,simple_score[4]*100,simple_score[5]*100]\n",
        "\n",
        "# Set position of bar on X axis\n",
        "r1 = np.arange(len(bars1))\n",
        "r2 = [x + barWidth for x in r1]\n",
        "r3 = [x + barWidth for x in r2]\n",
        "\n",
        "# Make the plot\n",
        "plt.bar(r1, bars1, color='#7f6d5f', width=barWidth, edgecolor='white', label='LDA')\n",
        "plt.bar(r2, bars2, color='#557f2d', width=barWidth, edgecolor='white', label='PCA')\n",
        "plt.bar(r3, bars3, color='#2d7f5e', width=barWidth, edgecolor='white', label='SIMPLE')\n",
        "\n",
        "# Add xticks on the middle of the group bars\n",
        "plt.xlabel('MODELS', fontweight='bold')\n",
        "plt.ylabel('Score', fontweight='bold')\n",
        "plt.xticks([r + barWidth for r in range(len(bars1))], ['Logistic_reg', 'Decision_Tree', 'SVC', 'K_Neighbors', ' GaussianNB','Random Forest'])\n",
        "\n",
        "# Create legend & Show graphic\n",
        "plt.legend()\n",
        "plt.show()"
      ],
      "execution_count": null,
      "outputs": []
    },
    {
      "metadata": {
        "id": "uR1rcWFFA8pI"
      },
      "cell_type": "markdown",
      "source": [
        " **COMPARISON OF CLASSIFICATION ALGORITHMS ACCURACIES W.R.T PCA,LDA AND SIMPLE TECHNIQUE**"
      ]
    },
    {
      "metadata": {
        "id": "hqftEMH6A8pJ"
      },
      "cell_type": "markdown",
      "source": [
        "***SVC** HAS ACCURACY OF **ABOVE 75%**, IS CLEARLY THE WINNER HERE.*\n",
        "*WHILE LOGISTIC REGRESSION,K NEIGHBOURS AND RANDOM FOREST PERFORMS WELL **ABOVE 70%**.*\n",
        "\n",
        "**Gaussian NB** is underperforming."
      ]
    },
    {
      "metadata": {
        "trusted": true,
        "id": "rmCSI1mhA8pJ"
      },
      "cell_type": "code",
      "source": [
        "# set width of bar\n",
        "barWidth = 0.25\n",
        "\n",
        "# set height of bar\n",
        "bars1 = [lda_accuracy[0]*100,lda_accuracy[1]*100,lda_accuracy[2]*100,lda_accuracy[3]*100,lda_accuracy[4]*100,lda_accuracy[5]*100]\n",
        "bars2 = [pca_accuracy[0]*100,pca_accuracy[1]*100,pca_accuracy[2]*100,pca_accuracy[3]*100,pca_accuracy[4]*100,pca_accuracy[5]*100]\n",
        "bars3 = [simple_accuracy[0]*100,simple_accuracy[1]*100,simple_accuracy[2]*100,simple_accuracy[3]*100,simple_accuracy[4]*100,simple_accuracy[5]*100]\n",
        "\n",
        "# Set position of bar on X axis\n",
        "r1 = np.arange(len(bars1))\n",
        "r2 = [x + barWidth for x in r1]\n",
        "r3 = [x + barWidth for x in r2]\n",
        "\n",
        "# Make the plot\n",
        "plt.bar(r1, bars1, color='#7f6d5f', width=barWidth, edgecolor='white', label='LDA')\n",
        "plt.bar(r2, bars2, color='#557f2d', width=barWidth, edgecolor='white', label='PCA')\n",
        "plt.bar(r3, bars3, color='#2d7f5e', width=barWidth, edgecolor='white', label='SIMPLE')\n",
        "\n",
        "# Add xticks on the middle of the group bars\n",
        "plt.xlabel('MODELS', fontweight='bold')\n",
        "plt.ylabel('ACCURACY', fontweight='bold')\n",
        "plt.xticks([r + barWidth for r in range(len(bars1))], ['Logistic_reg', 'Decision_Tree', 'SVC', 'K_Neighbors', ' GaussianNB','Random Forest'])\n",
        "\n",
        "# Create legend & Show graphic\n",
        "plt.legend()\n",
        "plt.show()"
      ],
      "execution_count": null,
      "outputs": []
    },
    {
      "metadata": {
        "id": "lnrdrEf_A8pJ"
      },
      "cell_type": "markdown",
      "source": [
        "# **SVC Optimization**"
      ]
    },
    {
      "metadata": {
        "id": "uiVDUg70A8pJ"
      },
      "cell_type": "markdown",
      "source": [
        "**For rbf kernel our best parameters are {'C': 10, 'gamma': 0.1}.**\n"
      ]
    },
    {
      "metadata": {
        "id": "sPckxDAGA8pJ"
      },
      "cell_type": "markdown",
      "source": [
        "As we have seen in our previous data analysis that svc has outperformed all the models.What can we do to increase its accuracy more.Lets see."
      ]
    },
    {
      "metadata": {
        "trusted": true,
        "id": "co4QxEsUA8pJ"
      },
      "cell_type": "code",
      "source": [
        "from sklearn.svm import SVC\n",
        "param1 = [0.001, 0.01, 0.1, 1, 10]\n",
        "param2 = [0.001, 0.01, 0.1, 1]\n",
        "param_grid = {'C': param1, 'gamma' : param2}\n",
        "grid_search = GridSearchCV(SVC(kernel='rbf'), param_grid, cv=10)\n",
        "grid_search.fit(x_train, y_train)\n",
        "print (grid_search.best_params_)\n",
        "\n"
      ],
      "execution_count": null,
      "outputs": []
    },
    {
      "metadata": {
        "id": "P2uPPBZ9A8pJ"
      },
      "cell_type": "markdown",
      "source": [
        "**For Linear kernel our best parameters are {'C': 1, 'gamma': 0.001}.**\n"
      ]
    },
    {
      "metadata": {
        "trusted": true,
        "id": "y8Gx8hOtA8pK"
      },
      "cell_type": "code",
      "source": [
        "from sklearn.svm import SVC\n",
        "param1 = [0.001, 0.01, 0.1, 1, 10]\n",
        "param2= [0.001, 0.01, 0.1, 1]\n",
        "param_grid = {'C': param1, 'gamma' : param2}\n",
        "grid_search = GridSearchCV(SVC(kernel='linear'), param_grid, cv=10)\n",
        "grid_search.fit(x_train, y_train)\n",
        "print (grid_search.best_params_)\n"
      ],
      "execution_count": null,
      "outputs": []
    },
    {
      "metadata": {
        "id": "IlVlNjt1A8pK"
      },
      "cell_type": "markdown",
      "source": [
        "**our accuracy with kernel='rbf', C=10, gamma=0.1 is 76 percent.**"
      ]
    },
    {
      "metadata": {
        "trusted": true,
        "id": "U3idX5VDA8pK"
      },
      "cell_type": "code",
      "source": [
        "from sklearn.svm import SVC\n",
        "SVC = SVC(kernel='rbf', C=10, gamma=0.1).fit(x_train,y_train)\n",
        "predictions_SVC = SVC.predict(x_test)\n",
        "accuracy_score(y_test, predictions_SVC)"
      ],
      "execution_count": null,
      "outputs": []
    },
    {
      "metadata": {
        "id": "pGFrhFnKA8pK"
      },
      "cell_type": "markdown",
      "source": [
        "**Our accuracy with kernel='linear', C=1, gamma=0.001 is 73.9 percent.**"
      ]
    },
    {
      "metadata": {
        "id": "1-ZeIQX1A8pK"
      },
      "cell_type": "markdown",
      "source": []
    },
    {
      "metadata": {
        "trusted": true,
        "id": "4lNUPc88A8pK"
      },
      "cell_type": "code",
      "source": [
        "from sklearn.svm import SVC\n",
        "SVC = SVC(kernel='linear', C=1, gamma=0.001).fit(x_train,y_train)\n",
        "\n",
        "predictions_SVC = SVC.predict(x_test)\n",
        "accuracy_score(y_test, predictions_SVC)"
      ],
      "execution_count": null,
      "outputs": []
    },
    {
      "metadata": {
        "id": "aRCmiE-IA8pK"
      },
      "cell_type": "markdown",
      "source": [
        "**For rbf kernel with \" LDA \" our best parameters are {'C': 10, 'gamma': 0.1}.**"
      ]
    },
    {
      "metadata": {
        "trusted": true,
        "id": "HCk3M4fAA8pL"
      },
      "cell_type": "code",
      "source": [
        "from sklearn.svm import SVC\n",
        "param1 = [0.001, 0.01, 0.1, 1, 10]\n",
        "param2 = [0.001, 0.01, 0.1, 1]\n",
        "param_grid = {'C': param1, 'gamma' : param2}\n",
        "grid_search = GridSearchCV(SVC(kernel='rbf'), param_grid, cv=10)\n",
        "grid_search.fit(lda_train, y_train)\n",
        "print (grid_search.best_params_)\n"
      ],
      "execution_count": null,
      "outputs": []
    },
    {
      "metadata": {
        "id": "ZWQOrsq7A8pL"
      },
      "cell_type": "markdown",
      "source": [
        "**For rbf kernel with \" LDA \" our accuracy is 75.1 percent.**"
      ]
    },
    {
      "metadata": {
        "trusted": true,
        "id": "haHzZIMIA8pL"
      },
      "cell_type": "code",
      "source": [
        "from sklearn.svm import SVC\n",
        "SVC = SVC(kernel='rbf', C=10, gamma=0.1).fit(lda_train,y_train)\n",
        "\n",
        "predictions_SVC = SVC.predict(lda_test)\n",
        "accuracy_score(y_test, predictions_SVC)"
      ],
      "execution_count": null,
      "outputs": []
    },
    {
      "metadata": {
        "id": "PjJNyXfMA8pL"
      },
      "cell_type": "markdown",
      "source": [
        "**For linear  kernel with \" LDA \" our best parameters are {'C': 1, 'gamma': 0.001}.**"
      ]
    },
    {
      "metadata": {
        "trusted": true,
        "id": "G9paDbHVA8pL"
      },
      "cell_type": "code",
      "source": [
        "from sklearn.svm import SVC\n",
        "param1 = [0.001, 0.01, 0.1, 1, 10]\n",
        "param2 = [0.001, 0.01, 0.1, 1]\n",
        "param_grid = {'C': param1, 'gamma' : param2}\n",
        "grid_search = GridSearchCV(SVC(kernel='linear'), param_grid, cv=10)\n",
        "grid_search.fit(lda_train, y_train)\n",
        "print (grid_search.best_params_)"
      ],
      "execution_count": null,
      "outputs": []
    },
    {
      "metadata": {
        "id": "U5eSjH0aA8pL"
      },
      "cell_type": "markdown",
      "source": [
        " **For linear  kernel with \" LDA \" our accuracy is 73.1 percent.**"
      ]
    },
    {
      "metadata": {
        "trusted": true,
        "id": "tR22MJHQA8pL"
      },
      "cell_type": "code",
      "source": [
        "from sklearn.svm import SVC\n",
        "SVC = SVC(kernel='linear', C=1, gamma=0.001).fit(lda_train,y_train)\n",
        "\n",
        "predictions_SVC = SVC.predict(lda_test)\n",
        "accuracy_score(y_test, predictions_SVC)"
      ],
      "execution_count": null,
      "outputs": []
    },
    {
      "metadata": {
        "id": "xHQVWhtFA8pM"
      },
      "cell_type": "markdown",
      "source": [
        "**For rbf  kernel with \" PCA \" our best parameters are {'C': 10, 'gamma': 0.1}**"
      ]
    },
    {
      "metadata": {
        "trusted": true,
        "id": "wojxf-qAA8pM"
      },
      "cell_type": "code",
      "source": [
        "from sklearn.svm import SVC\n",
        "param1 = [0.001, 0.01, 0.1, 1, 10]\n",
        "param2 = [0.001, 0.01, 0.1, 1]\n",
        "param_grid = {'C': param1, 'gamma' : param2}\n",
        "grid_search = GridSearchCV(SVC(kernel='rbf'), param_grid, cv=10)\n",
        "grid_search.fit(pca_train, y_train)\n",
        "print (grid_search.best_params_)"
      ],
      "execution_count": null,
      "outputs": []
    },
    {
      "metadata": {
        "id": "aV1QI-0CA8pM"
      },
      "cell_type": "markdown",
      "source": [
        "**For rbf  kernel with \" PCA \" our accuracy is 76 percent.**"
      ]
    },
    {
      "metadata": {
        "trusted": true,
        "id": "KnPgp3YxA8pM"
      },
      "cell_type": "code",
      "source": [
        "from sklearn.svm import SVC\n",
        "SVC = SVC(kernel='rbf', C=10, gamma=0.1).fit(pca_train,y_train)\n",
        "\n",
        "predictions_SVC = SVC.predict(pca_test)\n",
        "accuracy_score(y_test, predictions_SVC)"
      ],
      "execution_count": null,
      "outputs": []
    },
    {
      "metadata": {
        "id": "5E6y-7AgA8pM"
      },
      "cell_type": "markdown",
      "source": [
        "**For linear  kernel with \" PCA \" our best parameters are {'C': 1, 'gamma': 0.001}**"
      ]
    },
    {
      "metadata": {
        "trusted": true,
        "id": "sz5xZkC9A8pM"
      },
      "cell_type": "code",
      "source": [
        "from sklearn.svm import SVC\n",
        "param1 = [0.001, 0.01, 0.1, 1, 10]\n",
        "param2 = [0.001, 0.01, 0.1, 1]\n",
        "param_grid = {'C': param1, 'gamma' : param2}\n",
        "grid_search = GridSearchCV(SVC(kernel='linear'), param_grid, cv=10)\n",
        "grid_search.fit(pca_train, y_train)\n",
        "print (grid_search.best_params_)"
      ],
      "execution_count": null,
      "outputs": []
    },
    {
      "metadata": {
        "id": "85cdPQc3A8pN"
      },
      "cell_type": "markdown",
      "source": [
        "**For linear  kernel with \" PCA \" our accuracy is 73.9 percent.**"
      ]
    },
    {
      "metadata": {
        "trusted": true,
        "id": "wiDxm4JkA8pN"
      },
      "cell_type": "code",
      "source": [
        "from sklearn.svm import SVC\n",
        "SVC = SVC(kernel='linear', C=1, gamma=0.001).fit(pca_train,y_train)\n",
        "\n",
        "predictions_SVC = SVC.predict(pca_test)\n",
        "accuracy_score(y_test, predictions_SVC)"
      ],
      "execution_count": null,
      "outputs": []
    },
    {
      "metadata": {
        "id": "pg5OsXp8A8pN"
      },
      "cell_type": "markdown",
      "source": [
        "# Random forest optimization"
      ]
    },
    {
      "metadata": {
        "id": "O_CoI6H2A8pN"
      },
      "cell_type": "markdown",
      "source": [
        "**This grid search for random forest consumes alot of cpu+gpu power.I did grid search on some other cpu and wrote results here.**"
      ]
    },
    {
      "metadata": {
        "id": "jtsJ4qgRA8pN"
      },
      "cell_type": "markdown",
      "source": [
        "Training of models hace a very bad carbon footprint"
      ]
    },
    {
      "metadata": {
        "id": "FS9KCbpNA8pN"
      },
      "cell_type": "markdown",
      "source": [
        "Please for information on training costs of a model see here : https://interestingengineering.com/training-ai-is-shockingly-costly-to-the-environment"
      ]
    },
    {
      "metadata": {
        "trusted": true,
        "id": "OnXVov1CA8pN"
      },
      "cell_type": "code",
      "source": [
        "# from sklearn.ensemble import RandomForestClassifier as RF\n",
        "#\n",
        "# param_grid = {\n",
        "#     'n_estimators': [50,100,200, 500],\n",
        "#     'max_features': ['auto', 'sqrt', 'log2'],\n",
        "*     'max_depth' : [3,4,5,6,7,8],\n",
        "*     'criterion' :['entropy', 'gini']\n",
        "* }\n",
        "*\n",
        "* grid_search = GridSearchCV(RF(), param_grid, cv=10)\n",
        "* grid_search.fit(x_train, y_train)\n",
        "* print (grid_search.best_params_)"
      ],
      "execution_count": null,
      "outputs": []
    },
    {
      "metadata": {
        "id": "1DA836J8A8pO"
      },
      "cell_type": "markdown",
      "source": [
        "**Best parameters are {'criterion': 'entropy', 'max_depth': 7, 'max_features': 'sqrt', 'n_estimators': 200}**"
      ]
    },
    {
      "metadata": {
        "id": "094ZJJicA8pO"
      },
      "cell_type": "markdown",
      "source": [
        " **Our accuracy wih these parameters in 78.4 % .**"
      ]
    },
    {
      "metadata": {
        "trusted": true,
        "id": "kaxNfs_5A8pO"
      },
      "cell_type": "code",
      "source": [
        "from sklearn.ensemble import RandomForestClassifier as RF\n",
        "RF = RF(criterion='entropy', max_depth=7,max_features='sqrt',n_estimators= 200).fit(x_train,y_train)\n",
        "predictions_RF= RF.predict(x_test)\n",
        "accuracy_score(y_test, predictions_RF)\n"
      ],
      "execution_count": null,
      "outputs": []
    },
    {
      "metadata": {
        "id": "7PJxNfQ6A8pO"
      },
      "cell_type": "markdown",
      "source": [
        "** Random Forest with 'PCA' best parameters are criterion='entropy', max_depth=8,max_features='sqrt',n_estimators= 500.**"
      ]
    },
    {
      "metadata": {
        "trusted": true,
        "id": "AQtAEZTNA8pO"
      },
      "cell_type": "code",
      "source": [
        "# from sklearn.ensemble import RandomForestClassifier as RF\n",
        "\n",
        "# param_grid = {\n",
        "#    'n_estimators': [50,100,200, 500],\n",
        "#     'max_features': ['auto', 'sqrt', 'log2'],\n",
        "#     'max_depth' : [3,4,5,6,7,8],\n",
        "#     'criterion' :['entropy', 'gini']\n",
        "# }\n",
        "#\n",
        "# grid_search = GridSearchCV(RF(), param_grid, cv=10)\n",
        "# grid_search.fit(pca_train, y_train)\n",
        "# print (grid_search.best_params_)"
      ],
      "execution_count": null,
      "outputs": []
    },
    {
      "metadata": {
        "id": "Vv8WfF-rA8pO"
      },
      "cell_type": "markdown",
      "source": [
        "**Accuracy with criterion='entropy', max_depth=8,max_features='sqrt',n_estimators= 500 and PCA 78.5 %. **"
      ]
    },
    {
      "metadata": {
        "trusted": true,
        "id": "d98neVSPA8pP"
      },
      "cell_type": "code",
      "source": [
        "from sklearn.ensemble import RandomForestClassifier as RF\n",
        "RF = RF(criterion='entropy', max_depth=8,max_features='sqrt',n_estimators= 500).fit(pca_train,y_train)\n",
        "predictions_RF= RF.predict(pca_test)\n",
        "accuracy_score(y_test, predictions_RF)\n"
      ],
      "execution_count": null,
      "outputs": []
    },
    {
      "metadata": {
        "id": "GUHRhb1hA8pP"
      },
      "cell_type": "markdown",
      "source": [
        "# Best Model"
      ]
    },
    {
      "metadata": {
        "id": "kH_BPnWpA8pP"
      },
      "cell_type": "markdown",
      "source": [
        "    As we had a classification problem at hand ,where data can be classfied in 7 different types.All algorithms used i.e Logistic regression ,Decision tree ,svc ,k_neigbours ,Gaussian NB,Random Forest are good for classification problem.\n",
        "    The algorithms which worked well with our dataset in decreasing order are >\n",
        "*     RANDOM FOREST criterion='entropy', max_depth=8,max_features='sqrt',n_estimators= 500 with 'PCA'\n",
        "*     SVC WITH PARAMETERS kernel='rbf', C=10, gamma=0.1 .\n",
        "*     LOGISTIC REGRESSION\n",
        "*     K NEIGBOURS\n",
        "*     DECISION TREE\n",
        "*     GAUSSIAN NB\n",
        "\n",
        "Random Forest And SVC performed quite reasonably well both in training scores and test accuracy ."
      ]
    }
  ],
  "metadata": {
    "kernelspec": {
      "display_name": "Python 3",
      "language": "python",
      "name": "python3"
    },
    "language_info": {
      "codemirror_mode": {
        "name": "ipython",
        "version": 3
      },
      "file_extension": ".py",
      "mimetype": "text/x-python",
      "name": "python",
      "nbconvert_exporter": "python",
      "pygments_lexer": "ipython3",
      "version": "3.6.6"
    },
    "colab": {
      "provenance": []
    }
  },
  "nbformat": 4,
  "nbformat_minor": 0
}